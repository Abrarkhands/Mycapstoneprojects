{
  "nbformat": 4,
  "nbformat_minor": 0,
  "metadata": {
    "colab": {
      "name": "Avocado Price Regression.ipynb",
      "provenance": [],
      "collapsed_sections": [],
      "mount_file_id": "1yxwsSW1iGM2oBd7ChrYsytDVpQQG8kWm",
      "authorship_tag": "ABX9TyMC/wHqdRLvLB4FyCSXH4Gi",
      "include_colab_link": true
    },
    "kernelspec": {
      "name": "python3",
      "display_name": "Python 3"
    },
    "language_info": {
      "name": "python"
    }
  },
  "cells": [
    {
      "cell_type": "markdown",
      "metadata": {
        "id": "view-in-github",
        "colab_type": "text"
      },
      "source": [
        "<a href=\"https://colab.research.google.com/github/Abrarkhands/Mycapstoneprojects/blob/main/Avocado_Price_Regression.ipynb\" target=\"_parent\"><img src=\"https://colab.research.google.com/assets/colab-badge.svg\" alt=\"Open In Colab\"/></a>"
      ]
    },
    {
      "cell_type": "markdown",
      "source": [
        "Avocado Data Analysis\n"
      ],
      "metadata": {
        "id": "4h1A1f3HjBSY"
      }
    },
    {
      "cell_type": "markdown",
      "source": [
        "Business Understanding\n",
        "\n",
        "\n",
        "The aim of this project is to answer the following four questions:"
      ],
      "metadata": {
        "id": "OcmSSuwXwEIs"
      }
    },
    {
      "cell_type": "markdown",
      "source": [
        "1. Which region are the lowest and highest prices of Avocado?\n",
        "2. What is the highest region of avocado production?\n",
        "3. What is the average avocado prices in each year?\n",
        "4. What is the average avocado volume in each year?\n",
        "\n",
        "\n"
      ],
      "metadata": {
        "id": "sDdjxqK0j4nJ"
      }
    },
    {
      "cell_type": "markdown",
      "source": [
        "Data Understanding\n",
        "\n",
        "\n",
        "The Avocado dataset was been used in this project.\n",
        "\n",
        "\n",
        "This dataset contains 13 columns:"
      ],
      "metadata": {
        "id": "fOEpHWdpwsQV"
      }
    },
    {
      "cell_type": "markdown",
      "source": [
        "1. Date - The date of the observation\n",
        "2. AveragePrice: the average price of a single avocado\n",
        "3. Total Volume: Total number of avocados sold\n",
        "4. Total Bags: Total number  o bags\n",
        "5. Small Bags: Total number of Small bags\n",
        "6. Large Bags: Total number of Large bags\n",
        "7. XLarge Bags: Total number of XLarge bags\n",
        "8. type: conventional or organic\n",
        "9. year: the year\n",
        "10. region: the city or region of the observation\n",
        "11. 4046: Total number of avocados with PLU 4046 sold\n",
        "12. 4225: Total number of avocados with PLU 4225 sold\n",
        "13. 4770: Total number of avocados with PLU 4770 sold"
      ],
      "metadata": {
        "id": "SCisKZMTkFAf"
      }
    },
    {
      "cell_type": "code",
      "source": [
        "import numpy as np\n",
        "import pandas as pd\n",
        "import matplotlib.pyplot as plt\n",
        "import seaborn as sns"
      ],
      "metadata": {
        "id": "_NFCUSc5i7vF"
      },
      "execution_count": null,
      "outputs": []
    },
    {
      "cell_type": "code",
      "source": [
        "from sklearn.linear_model import LinearRegression"
      ],
      "metadata": {
        "id": "e6GgNQYbi7sd"
      },
      "execution_count": null,
      "outputs": []
    },
    {
      "cell_type": "code",
      "source": [
        "from sklearn.metrics import r2_score"
      ],
      "metadata": {
        "id": "H_Bcn7gEkRIP"
      },
      "execution_count": null,
      "outputs": []
    },
    {
      "cell_type": "code",
      "source": [
        "df = pd.read_csv(r'/content/avocado.csv')"
      ],
      "metadata": {
        "id": "dtZUVTM-i7py"
      },
      "execution_count": null,
      "outputs": []
    },
    {
      "cell_type": "code",
      "source": [
        "df.info()"
      ],
      "metadata": {
        "colab": {
          "base_uri": "https://localhost:8080/"
        },
        "id": "FWeFdQN3i7nI",
        "outputId": "ed4e6d7a-77df-47cc-b492-e1c8183ebe8e"
      },
      "execution_count": null,
      "outputs": [
        {
          "output_type": "stream",
          "name": "stdout",
          "text": [
            "<class 'pandas.core.frame.DataFrame'>\n",
            "RangeIndex: 18249 entries, 0 to 18248\n",
            "Data columns (total 14 columns):\n",
            " #   Column        Non-Null Count  Dtype  \n",
            "---  ------        --------------  -----  \n",
            " 0   Unnamed: 0    18249 non-null  int64  \n",
            " 1   Date          18249 non-null  object \n",
            " 2   AveragePrice  18249 non-null  float64\n",
            " 3   Total Volume  18249 non-null  float64\n",
            " 4   4046          18249 non-null  float64\n",
            " 5   4225          18249 non-null  float64\n",
            " 6   4770          18249 non-null  float64\n",
            " 7   Total Bags    18249 non-null  float64\n",
            " 8   Small Bags    18249 non-null  float64\n",
            " 9   Large Bags    18249 non-null  float64\n",
            " 10  XLarge Bags   18249 non-null  float64\n",
            " 11  type          18249 non-null  object \n",
            " 12  year          18249 non-null  int64  \n",
            " 13  region        18249 non-null  object \n",
            "dtypes: float64(9), int64(2), object(3)\n",
            "memory usage: 1.9+ MB\n"
          ]
        }
      ]
    },
    {
      "cell_type": "code",
      "source": [
        "df.head()"
      ],
      "metadata": {
        "colab": {
          "base_uri": "https://localhost:8080/",
          "height": 354
        },
        "id": "OYpYn1Fyi7kA",
        "outputId": "3a6552b9-2aeb-49cf-b449-73f7426a5cd2"
      },
      "execution_count": null,
      "outputs": [
        {
          "output_type": "execute_result",
          "data": {
            "text/plain": [
              "   Unnamed: 0        Date  AveragePrice  Total Volume     4046       4225  \\\n",
              "0           0  2015-12-27          1.33      64236.62  1036.74   54454.85   \n",
              "1           1  2015-12-20          1.35      54876.98   674.28   44638.81   \n",
              "2           2  2015-12-13          0.93     118220.22   794.70  109149.67   \n",
              "3           3  2015-12-06          1.08      78992.15  1132.00   71976.41   \n",
              "4           4  2015-11-29          1.28      51039.60   941.48   43838.39   \n",
              "\n",
              "     4770  Total Bags  Small Bags  Large Bags  XLarge Bags          type  \\\n",
              "0   48.16     8696.87     8603.62       93.25          0.0  conventional   \n",
              "1   58.33     9505.56     9408.07       97.49          0.0  conventional   \n",
              "2  130.50     8145.35     8042.21      103.14          0.0  conventional   \n",
              "3   72.58     5811.16     5677.40      133.76          0.0  conventional   \n",
              "4   75.78     6183.95     5986.26      197.69          0.0  conventional   \n",
              "\n",
              "   year  region  \n",
              "0  2015  Albany  \n",
              "1  2015  Albany  \n",
              "2  2015  Albany  \n",
              "3  2015  Albany  \n",
              "4  2015  Albany  "
            ],
            "text/html": [
              "\n",
              "  <div id=\"df-9ae8383d-9bc8-46d1-89c2-22c10c31c12c\">\n",
              "    <div class=\"colab-df-container\">\n",
              "      <div>\n",
              "<style scoped>\n",
              "    .dataframe tbody tr th:only-of-type {\n",
              "        vertical-align: middle;\n",
              "    }\n",
              "\n",
              "    .dataframe tbody tr th {\n",
              "        vertical-align: top;\n",
              "    }\n",
              "\n",
              "    .dataframe thead th {\n",
              "        text-align: right;\n",
              "    }\n",
              "</style>\n",
              "<table border=\"1\" class=\"dataframe\">\n",
              "  <thead>\n",
              "    <tr style=\"text-align: right;\">\n",
              "      <th></th>\n",
              "      <th>Unnamed: 0</th>\n",
              "      <th>Date</th>\n",
              "      <th>AveragePrice</th>\n",
              "      <th>Total Volume</th>\n",
              "      <th>4046</th>\n",
              "      <th>4225</th>\n",
              "      <th>4770</th>\n",
              "      <th>Total Bags</th>\n",
              "      <th>Small Bags</th>\n",
              "      <th>Large Bags</th>\n",
              "      <th>XLarge Bags</th>\n",
              "      <th>type</th>\n",
              "      <th>year</th>\n",
              "      <th>region</th>\n",
              "    </tr>\n",
              "  </thead>\n",
              "  <tbody>\n",
              "    <tr>\n",
              "      <th>0</th>\n",
              "      <td>0</td>\n",
              "      <td>2015-12-27</td>\n",
              "      <td>1.33</td>\n",
              "      <td>64236.62</td>\n",
              "      <td>1036.74</td>\n",
              "      <td>54454.85</td>\n",
              "      <td>48.16</td>\n",
              "      <td>8696.87</td>\n",
              "      <td>8603.62</td>\n",
              "      <td>93.25</td>\n",
              "      <td>0.0</td>\n",
              "      <td>conventional</td>\n",
              "      <td>2015</td>\n",
              "      <td>Albany</td>\n",
              "    </tr>\n",
              "    <tr>\n",
              "      <th>1</th>\n",
              "      <td>1</td>\n",
              "      <td>2015-12-20</td>\n",
              "      <td>1.35</td>\n",
              "      <td>54876.98</td>\n",
              "      <td>674.28</td>\n",
              "      <td>44638.81</td>\n",
              "      <td>58.33</td>\n",
              "      <td>9505.56</td>\n",
              "      <td>9408.07</td>\n",
              "      <td>97.49</td>\n",
              "      <td>0.0</td>\n",
              "      <td>conventional</td>\n",
              "      <td>2015</td>\n",
              "      <td>Albany</td>\n",
              "    </tr>\n",
              "    <tr>\n",
              "      <th>2</th>\n",
              "      <td>2</td>\n",
              "      <td>2015-12-13</td>\n",
              "      <td>0.93</td>\n",
              "      <td>118220.22</td>\n",
              "      <td>794.70</td>\n",
              "      <td>109149.67</td>\n",
              "      <td>130.50</td>\n",
              "      <td>8145.35</td>\n",
              "      <td>8042.21</td>\n",
              "      <td>103.14</td>\n",
              "      <td>0.0</td>\n",
              "      <td>conventional</td>\n",
              "      <td>2015</td>\n",
              "      <td>Albany</td>\n",
              "    </tr>\n",
              "    <tr>\n",
              "      <th>3</th>\n",
              "      <td>3</td>\n",
              "      <td>2015-12-06</td>\n",
              "      <td>1.08</td>\n",
              "      <td>78992.15</td>\n",
              "      <td>1132.00</td>\n",
              "      <td>71976.41</td>\n",
              "      <td>72.58</td>\n",
              "      <td>5811.16</td>\n",
              "      <td>5677.40</td>\n",
              "      <td>133.76</td>\n",
              "      <td>0.0</td>\n",
              "      <td>conventional</td>\n",
              "      <td>2015</td>\n",
              "      <td>Albany</td>\n",
              "    </tr>\n",
              "    <tr>\n",
              "      <th>4</th>\n",
              "      <td>4</td>\n",
              "      <td>2015-11-29</td>\n",
              "      <td>1.28</td>\n",
              "      <td>51039.60</td>\n",
              "      <td>941.48</td>\n",
              "      <td>43838.39</td>\n",
              "      <td>75.78</td>\n",
              "      <td>6183.95</td>\n",
              "      <td>5986.26</td>\n",
              "      <td>197.69</td>\n",
              "      <td>0.0</td>\n",
              "      <td>conventional</td>\n",
              "      <td>2015</td>\n",
              "      <td>Albany</td>\n",
              "    </tr>\n",
              "  </tbody>\n",
              "</table>\n",
              "</div>\n",
              "      <button class=\"colab-df-convert\" onclick=\"convertToInteractive('df-9ae8383d-9bc8-46d1-89c2-22c10c31c12c')\"\n",
              "              title=\"Convert this dataframe to an interactive table.\"\n",
              "              style=\"display:none;\">\n",
              "        \n",
              "  <svg xmlns=\"http://www.w3.org/2000/svg\" height=\"24px\"viewBox=\"0 0 24 24\"\n",
              "       width=\"24px\">\n",
              "    <path d=\"M0 0h24v24H0V0z\" fill=\"none\"/>\n",
              "    <path d=\"M18.56 5.44l.94 2.06.94-2.06 2.06-.94-2.06-.94-.94-2.06-.94 2.06-2.06.94zm-11 1L8.5 8.5l.94-2.06 2.06-.94-2.06-.94L8.5 2.5l-.94 2.06-2.06.94zm10 10l.94 2.06.94-2.06 2.06-.94-2.06-.94-.94-2.06-.94 2.06-2.06.94z\"/><path d=\"M17.41 7.96l-1.37-1.37c-.4-.4-.92-.59-1.43-.59-.52 0-1.04.2-1.43.59L10.3 9.45l-7.72 7.72c-.78.78-.78 2.05 0 2.83L4 21.41c.39.39.9.59 1.41.59.51 0 1.02-.2 1.41-.59l7.78-7.78 2.81-2.81c.8-.78.8-2.07 0-2.86zM5.41 20L4 18.59l7.72-7.72 1.47 1.35L5.41 20z\"/>\n",
              "  </svg>\n",
              "      </button>\n",
              "      \n",
              "  <style>\n",
              "    .colab-df-container {\n",
              "      display:flex;\n",
              "      flex-wrap:wrap;\n",
              "      gap: 12px;\n",
              "    }\n",
              "\n",
              "    .colab-df-convert {\n",
              "      background-color: #E8F0FE;\n",
              "      border: none;\n",
              "      border-radius: 50%;\n",
              "      cursor: pointer;\n",
              "      display: none;\n",
              "      fill: #1967D2;\n",
              "      height: 32px;\n",
              "      padding: 0 0 0 0;\n",
              "      width: 32px;\n",
              "    }\n",
              "\n",
              "    .colab-df-convert:hover {\n",
              "      background-color: #E2EBFA;\n",
              "      box-shadow: 0px 1px 2px rgba(60, 64, 67, 0.3), 0px 1px 3px 1px rgba(60, 64, 67, 0.15);\n",
              "      fill: #174EA6;\n",
              "    }\n",
              "\n",
              "    [theme=dark] .colab-df-convert {\n",
              "      background-color: #3B4455;\n",
              "      fill: #D2E3FC;\n",
              "    }\n",
              "\n",
              "    [theme=dark] .colab-df-convert:hover {\n",
              "      background-color: #434B5C;\n",
              "      box-shadow: 0px 1px 3px 1px rgba(0, 0, 0, 0.15);\n",
              "      filter: drop-shadow(0px 1px 2px rgba(0, 0, 0, 0.3));\n",
              "      fill: #FFFFFF;\n",
              "    }\n",
              "  </style>\n",
              "\n",
              "      <script>\n",
              "        const buttonEl =\n",
              "          document.querySelector('#df-9ae8383d-9bc8-46d1-89c2-22c10c31c12c button.colab-df-convert');\n",
              "        buttonEl.style.display =\n",
              "          google.colab.kernel.accessAllowed ? 'block' : 'none';\n",
              "\n",
              "        async function convertToInteractive(key) {\n",
              "          const element = document.querySelector('#df-9ae8383d-9bc8-46d1-89c2-22c10c31c12c');\n",
              "          const dataTable =\n",
              "            await google.colab.kernel.invokeFunction('convertToInteractive',\n",
              "                                                     [key], {});\n",
              "          if (!dataTable) return;\n",
              "\n",
              "          const docLinkHtml = 'Like what you see? Visit the ' +\n",
              "            '<a target=\"_blank\" href=https://colab.research.google.com/notebooks/data_table.ipynb>data table notebook</a>'\n",
              "            + ' to learn more about interactive tables.';\n",
              "          element.innerHTML = '';\n",
              "          dataTable['output_type'] = 'display_data';\n",
              "          await google.colab.output.renderOutput(dataTable, element);\n",
              "          const docLink = document.createElement('div');\n",
              "          docLink.innerHTML = docLinkHtml;\n",
              "          element.appendChild(docLink);\n",
              "        }\n",
              "      </script>\n",
              "    </div>\n",
              "  </div>\n",
              "  "
            ]
          },
          "metadata": {},
          "execution_count": 23
        }
      ]
    },
    {
      "cell_type": "code",
      "source": [
        "df.isnull().sum()"
      ],
      "metadata": {
        "colab": {
          "base_uri": "https://localhost:8080/"
        },
        "id": "Y5QiBieoi7bC",
        "outputId": "7ae0d55f-905b-4910-a3b2-e5031d839137"
      },
      "execution_count": null,
      "outputs": [
        {
          "output_type": "execute_result",
          "data": {
            "text/plain": [
              "Unnamed: 0      0\n",
              "Date            0\n",
              "AveragePrice    0\n",
              "Total Volume    0\n",
              "4046            0\n",
              "4225            0\n",
              "4770            0\n",
              "Total Bags      0\n",
              "Small Bags      0\n",
              "Large Bags      0\n",
              "XLarge Bags     0\n",
              "type            0\n",
              "year            0\n",
              "region          0\n",
              "dtype: int64"
            ]
          },
          "metadata": {},
          "execution_count": 24
        }
      ]
    },
    {
      "cell_type": "markdown",
      "source": [
        "ropping unnecessary columns"
      ],
      "metadata": {
        "id": "naYN3yCWms4U"
      }
    },
    {
      "cell_type": "code",
      "source": [
        "df = df.drop(['Unnamed: 0','4046','4225','4770','Date'],axis=1)"
      ],
      "metadata": {
        "id": "xpTFh-M_i7XQ"
      },
      "execution_count": null,
      "outputs": []
    },
    {
      "cell_type": "code",
      "source": [
        "df.head()"
      ],
      "metadata": {
        "colab": {
          "base_uri": "https://localhost:8080/",
          "height": 206
        },
        "id": "74sSJTXyi7Ul",
        "outputId": "77cb0af3-78fc-4b05-f04f-1d2969b8ee5d"
      },
      "execution_count": null,
      "outputs": [
        {
          "output_type": "execute_result",
          "data": {
            "text/plain": [
              "   AveragePrice  Total Volume  Total Bags  Small Bags  Large Bags  \\\n",
              "0          1.33      64236.62     8696.87     8603.62       93.25   \n",
              "1          1.35      54876.98     9505.56     9408.07       97.49   \n",
              "2          0.93     118220.22     8145.35     8042.21      103.14   \n",
              "3          1.08      78992.15     5811.16     5677.40      133.76   \n",
              "4          1.28      51039.60     6183.95     5986.26      197.69   \n",
              "\n",
              "   XLarge Bags          type  year  region  \n",
              "0          0.0  conventional  2015  Albany  \n",
              "1          0.0  conventional  2015  Albany  \n",
              "2          0.0  conventional  2015  Albany  \n",
              "3          0.0  conventional  2015  Albany  \n",
              "4          0.0  conventional  2015  Albany  "
            ],
            "text/html": [
              "\n",
              "  <div id=\"df-e4d237b1-b449-463f-8af9-7ded46a14a82\">\n",
              "    <div class=\"colab-df-container\">\n",
              "      <div>\n",
              "<style scoped>\n",
              "    .dataframe tbody tr th:only-of-type {\n",
              "        vertical-align: middle;\n",
              "    }\n",
              "\n",
              "    .dataframe tbody tr th {\n",
              "        vertical-align: top;\n",
              "    }\n",
              "\n",
              "    .dataframe thead th {\n",
              "        text-align: right;\n",
              "    }\n",
              "</style>\n",
              "<table border=\"1\" class=\"dataframe\">\n",
              "  <thead>\n",
              "    <tr style=\"text-align: right;\">\n",
              "      <th></th>\n",
              "      <th>AveragePrice</th>\n",
              "      <th>Total Volume</th>\n",
              "      <th>Total Bags</th>\n",
              "      <th>Small Bags</th>\n",
              "      <th>Large Bags</th>\n",
              "      <th>XLarge Bags</th>\n",
              "      <th>type</th>\n",
              "      <th>year</th>\n",
              "      <th>region</th>\n",
              "    </tr>\n",
              "  </thead>\n",
              "  <tbody>\n",
              "    <tr>\n",
              "      <th>0</th>\n",
              "      <td>1.33</td>\n",
              "      <td>64236.62</td>\n",
              "      <td>8696.87</td>\n",
              "      <td>8603.62</td>\n",
              "      <td>93.25</td>\n",
              "      <td>0.0</td>\n",
              "      <td>conventional</td>\n",
              "      <td>2015</td>\n",
              "      <td>Albany</td>\n",
              "    </tr>\n",
              "    <tr>\n",
              "      <th>1</th>\n",
              "      <td>1.35</td>\n",
              "      <td>54876.98</td>\n",
              "      <td>9505.56</td>\n",
              "      <td>9408.07</td>\n",
              "      <td>97.49</td>\n",
              "      <td>0.0</td>\n",
              "      <td>conventional</td>\n",
              "      <td>2015</td>\n",
              "      <td>Albany</td>\n",
              "    </tr>\n",
              "    <tr>\n",
              "      <th>2</th>\n",
              "      <td>0.93</td>\n",
              "      <td>118220.22</td>\n",
              "      <td>8145.35</td>\n",
              "      <td>8042.21</td>\n",
              "      <td>103.14</td>\n",
              "      <td>0.0</td>\n",
              "      <td>conventional</td>\n",
              "      <td>2015</td>\n",
              "      <td>Albany</td>\n",
              "    </tr>\n",
              "    <tr>\n",
              "      <th>3</th>\n",
              "      <td>1.08</td>\n",
              "      <td>78992.15</td>\n",
              "      <td>5811.16</td>\n",
              "      <td>5677.40</td>\n",
              "      <td>133.76</td>\n",
              "      <td>0.0</td>\n",
              "      <td>conventional</td>\n",
              "      <td>2015</td>\n",
              "      <td>Albany</td>\n",
              "    </tr>\n",
              "    <tr>\n",
              "      <th>4</th>\n",
              "      <td>1.28</td>\n",
              "      <td>51039.60</td>\n",
              "      <td>6183.95</td>\n",
              "      <td>5986.26</td>\n",
              "      <td>197.69</td>\n",
              "      <td>0.0</td>\n",
              "      <td>conventional</td>\n",
              "      <td>2015</td>\n",
              "      <td>Albany</td>\n",
              "    </tr>\n",
              "  </tbody>\n",
              "</table>\n",
              "</div>\n",
              "      <button class=\"colab-df-convert\" onclick=\"convertToInteractive('df-e4d237b1-b449-463f-8af9-7ded46a14a82')\"\n",
              "              title=\"Convert this dataframe to an interactive table.\"\n",
              "              style=\"display:none;\">\n",
              "        \n",
              "  <svg xmlns=\"http://www.w3.org/2000/svg\" height=\"24px\"viewBox=\"0 0 24 24\"\n",
              "       width=\"24px\">\n",
              "    <path d=\"M0 0h24v24H0V0z\" fill=\"none\"/>\n",
              "    <path d=\"M18.56 5.44l.94 2.06.94-2.06 2.06-.94-2.06-.94-.94-2.06-.94 2.06-2.06.94zm-11 1L8.5 8.5l.94-2.06 2.06-.94-2.06-.94L8.5 2.5l-.94 2.06-2.06.94zm10 10l.94 2.06.94-2.06 2.06-.94-2.06-.94-.94-2.06-.94 2.06-2.06.94z\"/><path d=\"M17.41 7.96l-1.37-1.37c-.4-.4-.92-.59-1.43-.59-.52 0-1.04.2-1.43.59L10.3 9.45l-7.72 7.72c-.78.78-.78 2.05 0 2.83L4 21.41c.39.39.9.59 1.41.59.51 0 1.02-.2 1.41-.59l7.78-7.78 2.81-2.81c.8-.78.8-2.07 0-2.86zM5.41 20L4 18.59l7.72-7.72 1.47 1.35L5.41 20z\"/>\n",
              "  </svg>\n",
              "      </button>\n",
              "      \n",
              "  <style>\n",
              "    .colab-df-container {\n",
              "      display:flex;\n",
              "      flex-wrap:wrap;\n",
              "      gap: 12px;\n",
              "    }\n",
              "\n",
              "    .colab-df-convert {\n",
              "      background-color: #E8F0FE;\n",
              "      border: none;\n",
              "      border-radius: 50%;\n",
              "      cursor: pointer;\n",
              "      display: none;\n",
              "      fill: #1967D2;\n",
              "      height: 32px;\n",
              "      padding: 0 0 0 0;\n",
              "      width: 32px;\n",
              "    }\n",
              "\n",
              "    .colab-df-convert:hover {\n",
              "      background-color: #E2EBFA;\n",
              "      box-shadow: 0px 1px 2px rgba(60, 64, 67, 0.3), 0px 1px 3px 1px rgba(60, 64, 67, 0.15);\n",
              "      fill: #174EA6;\n",
              "    }\n",
              "\n",
              "    [theme=dark] .colab-df-convert {\n",
              "      background-color: #3B4455;\n",
              "      fill: #D2E3FC;\n",
              "    }\n",
              "\n",
              "    [theme=dark] .colab-df-convert:hover {\n",
              "      background-color: #434B5C;\n",
              "      box-shadow: 0px 1px 3px 1px rgba(0, 0, 0, 0.15);\n",
              "      filter: drop-shadow(0px 1px 2px rgba(0, 0, 0, 0.3));\n",
              "      fill: #FFFFFF;\n",
              "    }\n",
              "  </style>\n",
              "\n",
              "      <script>\n",
              "        const buttonEl =\n",
              "          document.querySelector('#df-e4d237b1-b449-463f-8af9-7ded46a14a82 button.colab-df-convert');\n",
              "        buttonEl.style.display =\n",
              "          google.colab.kernel.accessAllowed ? 'block' : 'none';\n",
              "\n",
              "        async function convertToInteractive(key) {\n",
              "          const element = document.querySelector('#df-e4d237b1-b449-463f-8af9-7ded46a14a82');\n",
              "          const dataTable =\n",
              "            await google.colab.kernel.invokeFunction('convertToInteractive',\n",
              "                                                     [key], {});\n",
              "          if (!dataTable) return;\n",
              "\n",
              "          const docLinkHtml = 'Like what you see? Visit the ' +\n",
              "            '<a target=\"_blank\" href=https://colab.research.google.com/notebooks/data_table.ipynb>data table notebook</a>'\n",
              "            + ' to learn more about interactive tables.';\n",
              "          element.innerHTML = '';\n",
              "          dataTable['output_type'] = 'display_data';\n",
              "          await google.colab.output.renderOutput(dataTable, element);\n",
              "          const docLink = document.createElement('div');\n",
              "          docLink.innerHTML = docLinkHtml;\n",
              "          element.appendChild(docLink);\n",
              "        }\n",
              "      </script>\n",
              "    </div>\n",
              "  </div>\n",
              "  "
            ]
          },
          "metadata": {},
          "execution_count": 26
        }
      ]
    },
    {
      "cell_type": "code",
      "source": [
        "def get_avarage(df,column):\n",
        "    \"\"\"\n",
        "    Description: This function to return the average value of the column \n",
        "\n",
        "    Arguments:\n",
        "        df: the DataFrame. \n",
        "        column: the selected column. \n",
        "    Returns:\n",
        "        column's average \n",
        "    \"\"\"\n",
        "    return sum(df[column])/len(df)"
      ],
      "metadata": {
        "id": "Pt95v1DIi7Rp"
      },
      "execution_count": null,
      "outputs": []
    },
    {
      "cell_type": "code",
      "source": [
        "def get_avarge_between_two_columns(df,column1,column2):\n",
        "    \"\"\"\n",
        "    Description: This function calculate the average between two columns in the dataset\n",
        "\n",
        "    Arguments:\n",
        "        df: the DataFrame. \n",
        "        column1:the first column. \n",
        "        column2:the scond column.\n",
        "    Returns:\n",
        "        Sorted data for relation between column1 and column2\n",
        "    \"\"\"\n",
        "    \n",
        "    List=list(df[column1].unique())\n",
        "    average=[]\n",
        "\n",
        "    for i in List:\n",
        "        x=df[df[column1]==i]\n",
        "        column1_average= get_avarage(x,column2)\n",
        "        average.append(column1_average)\n",
        "\n",
        "    df_column1_column2=pd.DataFrame({'column1':List,'column2':average})\n",
        "    column1_column2_sorted_index=df_column1_column2.column2.sort_values(ascending=False).index.values\n",
        "    column1_column2_sorted_data=df_column1_column2.reindex(column1_column2_sorted_index)\n",
        "    \n",
        "    return column1_column2_sorted_data"
      ],
      "metadata": {
        "id": "0_Ze-JZOi7O4"
      },
      "execution_count": null,
      "outputs": []
    },
    {
      "cell_type": "code",
      "source": [
        "def plot(data,xlabel,ylabel):\n",
        "    \"\"\"\n",
        "    Description: This function to draw a barplot\n",
        "\n",
        "    Arguments:\n",
        "        data: the DataFrame. \n",
        "        xlabel: the label of the first column. \n",
        "        ylabel: the label of the second column.\n",
        "    Returns:\n",
        "        None\n",
        "    \"\"\"\n",
        "        \n",
        "    plt.figure(figsize=(15,5))\n",
        "    ax=sns.barplot(x=data.column1,y=data.column2,palette='rocket')\n",
        "    plt.xticks(rotation=90)\n",
        "    plt.xlabel(xlabel)\n",
        "    plt.ylabel(ylabel)\n",
        "    plt.title(('Avarage '+ylabel+' of Avocado According to '+xlabel));"
      ],
      "metadata": {
        "id": "Tm9kfhLAi7MJ"
      },
      "execution_count": null,
      "outputs": []
    },
    {
      "cell_type": "code",
      "source": [
        "data1 = get_avarge_between_two_columns(df,'region','AveragePrice')\n",
        "plot(data1,'Region','Price ($)')\n"
      ],
      "metadata": {
        "colab": {
          "base_uri": "https://localhost:8080/",
          "height": 447
        },
        "id": "usKpKwcPi7JD",
        "outputId": "5643a4f9-9fc3-4c17-8eaf-105205279de2"
      },
      "execution_count": null,
      "outputs": [
        {
          "output_type": "display_data",
          "data": {
            "text/plain": [
              "<Figure size 1080x360 with 1 Axes>"
            ],
            "image/png": "[encoded data removed]"
          },
          "metadata": {
            "needs_background": "light"
          }
        }
      ]
    },
    {
      "cell_type": "code",
      "source": [
        "print(data1['column1'].iloc[-1], \" is the region producing avocado with the lowest price.\")"
      ],
      "metadata": {
        "colab": {
          "base_uri": "https://localhost:8080/"
        },
        "id": "agIWJw5Ni7Fv",
        "outputId": "68d8e0a1-2f42-4850-ddd4-4283da7c1c69"
      },
      "execution_count": null,
      "outputs": [
        {
          "output_type": "stream",
          "name": "stdout",
          "text": [
            "Houston  is the region producing avocado with the lowest price.\n"
          ]
        }
      ]
    },
    {
      "cell_type": "markdown",
      "source": [
        "Houston  is the region producing avocado with the lowest price."
      ],
      "metadata": {
        "id": "lYvlG0h6nQKy"
      }
    },
    {
      "cell_type": "markdown",
      "source": [
        "What is the highest region of avocado production?"
      ],
      "metadata": {
        "id": "foV_p9CSnTVP"
      }
    },
    {
      "cell_type": "markdown",
      "source": [
        "Checking if there are outlier values or not"
      ],
      "metadata": {
        "id": "SNZZoe8QnWhH"
      }
    },
    {
      "cell_type": "code",
      "source": [
        "data2 = get_avarge_between_two_columns(df,'region','Total Volume')\n",
        "sns.boxplot(x=data2.column2).set_title(\"Figure: Boxplot repersenting outlier columns.\")"
      ],
      "metadata": {
        "colab": {
          "base_uri": "https://localhost:8080/",
          "height": 312
        },
        "id": "bHlL3mGqi7Cj",
        "outputId": "bcb145a5-2521-4abf-9a29-39a96282cfa4"
      },
      "execution_count": null,
      "outputs": [
        {
          "output_type": "execute_result",
          "data": {
            "text/plain": [
              "Text(0.5, 1.0, 'Figure: Boxplot repersenting outlier columns.')"
            ]
          },
          "metadata": {},
          "execution_count": 32
        },
        {
          "output_type": "display_data",
          "data": {
            "text/plain": [
              "<Figure size 432x288 with 1 Axes>"
            ],
            "image/png": "[encoded data removed]"
          },
          "metadata": {
            "needs_background": "light"
          }
        }
      ]
    },
    {
      "cell_type": "code",
      "source": [
        "outlier_region = data2[data2.column2>10000000]\n",
        "print(outlier_region['column1'].iloc[-1], \"is outlier value\")"
      ],
      "metadata": {
        "colab": {
          "base_uri": "https://localhost:8080/"
        },
        "id": "dORH2mbri6_b",
        "outputId": "0405d01d-24bd-4ff3-c192-3896b99901ea"
      },
      "execution_count": null,
      "outputs": [
        {
          "output_type": "stream",
          "name": "stdout",
          "text": [
            "TotalUS is outlier value\n"
          ]
        }
      ]
    },
    {
      "cell_type": "markdown",
      "source": [
        "Remove the outlier values¶\n"
      ],
      "metadata": {
        "id": "QXEIXv7GngjZ"
      }
    },
    {
      "cell_type": "code",
      "source": [
        "outlier_region.index\n",
        "data2 = data2.drop(outlier_region.index,axis=0)"
      ],
      "metadata": {
        "id": "4F4Pcpw9i68D"
      },
      "execution_count": null,
      "outputs": []
    },
    {
      "cell_type": "code",
      "source": [
        "plot(data2,'Region','Volume')"
      ],
      "metadata": {
        "colab": {
          "base_uri": "https://localhost:8080/",
          "height": 447
        },
        "id": "o0FoE6BXi64_",
        "outputId": "794aaf10-e8c6-40c4-f618-cefb82f4f2e2"
      },
      "execution_count": null,
      "outputs": [
        {
          "output_type": "display_data",
          "data": {
            "text/plain": [
              "<Figure size 1080x360 with 1 Axes>"
            ],
            "image/png": "[encoded data removed]"
          },
          "metadata": {
            "needs_background": "light"
          }
        }
      ]
    },
    {
      "cell_type": "markdown",
      "source": [
        "What is the average avocado prices in each year?¶\n"
      ],
      "metadata": {
        "id": "ODW6aSWdnqFH"
      }
    },
    {
      "cell_type": "code",
      "source": [
        "data3 = get_avarge_between_two_columns(df,'year','AveragePrice')\n",
        "plot(data3,'year','Price')"
      ],
      "metadata": {
        "colab": {
          "base_uri": "https://localhost:8080/",
          "height": 365
        },
        "id": "K_7uJFc6i62C",
        "outputId": "a91b45ef-7328-43e1-e7ae-a018cc625ecf"
      },
      "execution_count": null,
      "outputs": [
        {
          "output_type": "display_data",
          "data": {
            "text/plain": [
              "<Figure size 1080x360 with 1 Axes>"
            ],
            "image/png": "[encoded data removed]"
          },
          "metadata": {
            "needs_background": "light"
          }
        }
      ]
    },
    {
      "cell_type": "code",
      "source": [
        "data4 = get_avarge_between_two_columns(df,'year','Total Volume')\n",
        "plot(data4,'year','Volume')"
      ],
      "metadata": {
        "colab": {
          "base_uri": "https://localhost:8080/",
          "height": 365
        },
        "id": "ttAmUXlqi6wn",
        "outputId": "0d098b6a-2993-4e6a-d655-4116cefcffa3"
      },
      "execution_count": null,
      "outputs": [
        {
          "output_type": "display_data",
          "data": {
            "text/plain": [
              "<Figure size 1080x360 with 1 Axes>"
            ],
            "image/png": "[encoded data removed]"
          },
          "metadata": {
            "needs_background": "light"
          }
        }
      ]
    },
    {
      "cell_type": "markdown",
      "source": [
        "Data Modeling\n",
        "We bulit the regrestion model by used Linear regresion from sklearn to predict the avocado price."
      ],
      "metadata": {
        "id": "8abJHMUsoeDE"
      }
    },
    {
      "cell_type": "code",
      "source": [
        "df['region'] = df['region'].astype('category')\n",
        "df['region'] = df['region'].cat.codes\n",
        "\n",
        "df['type'] = df['type'].astype('category')\n",
        "df['type'] = df['type'].cat.codes"
      ],
      "metadata": {
        "id": "jo9vHc2Ai6tg"
      },
      "execution_count": null,
      "outputs": []
    },
    {
      "cell_type": "code",
      "source": [
        "df.info()"
      ],
      "metadata": {
        "colab": {
          "base_uri": "https://localhost:8080/"
        },
        "id": "A3kp4Xi4i6qn",
        "outputId": "87dc995b-2bd4-4bed-8bfe-b48c0aa04b4e"
      },
      "execution_count": null,
      "outputs": [
        {
          "output_type": "stream",
          "name": "stdout",
          "text": [
            "<class 'pandas.core.frame.DataFrame'>\n",
            "RangeIndex: 18249 entries, 0 to 18248\n",
            "Data columns (total 9 columns):\n",
            " #   Column        Non-Null Count  Dtype  \n",
            "---  ------        --------------  -----  \n",
            " 0   AveragePrice  18249 non-null  float64\n",
            " 1   Total Volume  18249 non-null  float64\n",
            " 2   Total Bags    18249 non-null  float64\n",
            " 3   Small Bags    18249 non-null  float64\n",
            " 4   Large Bags    18249 non-null  float64\n",
            " 5   XLarge Bags   18249 non-null  float64\n",
            " 6   type          18249 non-null  int8   \n",
            " 7   year          18249 non-null  int64  \n",
            " 8   region        18249 non-null  int8   \n",
            "dtypes: float64(6), int64(1), int8(2)\n",
            "memory usage: 1.0 MB\n"
          ]
        }
      ]
    },
    {
      "cell_type": "code",
      "source": [
        "df.head()"
      ],
      "metadata": {
        "colab": {
          "base_uri": "https://localhost:8080/",
          "height": 206
        },
        "id": "gyxJBdk9i6n7",
        "outputId": "55dcea15-46de-4889-eda2-657f261ab9e5"
      },
      "execution_count": null,
      "outputs": [
        {
          "output_type": "execute_result",
          "data": {
            "text/plain": [
              "   AveragePrice  Total Volume  Total Bags  Small Bags  Large Bags  \\\n",
              "0          1.33      64236.62     8696.87     8603.62       93.25   \n",
              "1          1.35      54876.98     9505.56     9408.07       97.49   \n",
              "2          0.93     118220.22     8145.35     8042.21      103.14   \n",
              "3          1.08      78992.15     5811.16     5677.40      133.76   \n",
              "4          1.28      51039.60     6183.95     5986.26      197.69   \n",
              "\n",
              "   XLarge Bags  type  year  region  \n",
              "0          0.0     0  2015       0  \n",
              "1          0.0     0  2015       0  \n",
              "2          0.0     0  2015       0  \n",
              "3          0.0     0  2015       0  \n",
              "4          0.0     0  2015       0  "
            ],
            "text/html": [
              "\n",
              "  <div id=\"df-f9eec7e9-8efd-4765-afdf-d8b75bfbd8e7\">\n",
              "    <div class=\"colab-df-container\">\n",
              "      <div>\n",
              "<style scoped>\n",
              "    .dataframe tbody tr th:only-of-type {\n",
              "        vertical-align: middle;\n",
              "    }\n",
              "\n",
              "    .dataframe tbody tr th {\n",
              "        vertical-align: top;\n",
              "    }\n",
              "\n",
              "    .dataframe thead th {\n",
              "        text-align: right;\n",
              "    }\n",
              "</style>\n",
              "<table border=\"1\" class=\"dataframe\">\n",
              "  <thead>\n",
              "    <tr style=\"text-align: right;\">\n",
              "      <th></th>\n",
              "      <th>AveragePrice</th>\n",
              "      <th>Total Volume</th>\n",
              "      <th>Total Bags</th>\n",
              "      <th>Small Bags</th>\n",
              "      <th>Large Bags</th>\n",
              "      <th>XLarge Bags</th>\n",
              "      <th>type</th>\n",
              "      <th>year</th>\n",
              "      <th>region</th>\n",
              "    </tr>\n",
              "  </thead>\n",
              "  <tbody>\n",
              "    <tr>\n",
              "      <th>0</th>\n",
              "      <td>1.33</td>\n",
              "      <td>64236.62</td>\n",
              "      <td>8696.87</td>\n",
              "      <td>8603.62</td>\n",
              "      <td>93.25</td>\n",
              "      <td>0.0</td>\n",
              "      <td>0</td>\n",
              "      <td>2015</td>\n",
              "      <td>0</td>\n",
              "    </tr>\n",
              "    <tr>\n",
              "      <th>1</th>\n",
              "      <td>1.35</td>\n",
              "      <td>54876.98</td>\n",
              "      <td>9505.56</td>\n",
              "      <td>9408.07</td>\n",
              "      <td>97.49</td>\n",
              "      <td>0.0</td>\n",
              "      <td>0</td>\n",
              "      <td>2015</td>\n",
              "      <td>0</td>\n",
              "    </tr>\n",
              "    <tr>\n",
              "      <th>2</th>\n",
              "      <td>0.93</td>\n",
              "      <td>118220.22</td>\n",
              "      <td>8145.35</td>\n",
              "      <td>8042.21</td>\n",
              "      <td>103.14</td>\n",
              "      <td>0.0</td>\n",
              "      <td>0</td>\n",
              "      <td>2015</td>\n",
              "      <td>0</td>\n",
              "    </tr>\n",
              "    <tr>\n",
              "      <th>3</th>\n",
              "      <td>1.08</td>\n",
              "      <td>78992.15</td>\n",
              "      <td>5811.16</td>\n",
              "      <td>5677.40</td>\n",
              "      <td>133.76</td>\n",
              "      <td>0.0</td>\n",
              "      <td>0</td>\n",
              "      <td>2015</td>\n",
              "      <td>0</td>\n",
              "    </tr>\n",
              "    <tr>\n",
              "      <th>4</th>\n",
              "      <td>1.28</td>\n",
              "      <td>51039.60</td>\n",
              "      <td>6183.95</td>\n",
              "      <td>5986.26</td>\n",
              "      <td>197.69</td>\n",
              "      <td>0.0</td>\n",
              "      <td>0</td>\n",
              "      <td>2015</td>\n",
              "      <td>0</td>\n",
              "    </tr>\n",
              "  </tbody>\n",
              "</table>\n",
              "</div>\n",
              "      <button class=\"colab-df-convert\" onclick=\"convertToInteractive('df-f9eec7e9-8efd-4765-afdf-d8b75bfbd8e7')\"\n",
              "              title=\"Convert this dataframe to an interactive table.\"\n",
              "              style=\"display:none;\">\n",
              "        \n",
              "  <svg xmlns=\"http://www.w3.org/2000/svg\" height=\"24px\"viewBox=\"0 0 24 24\"\n",
              "       width=\"24px\">\n",
              "    <path d=\"M0 0h24v24H0V0z\" fill=\"none\"/>\n",
              "    <path d=\"M18.56 5.44l.94 2.06.94-2.06 2.06-.94-2.06-.94-.94-2.06-.94 2.06-2.06.94zm-11 1L8.5 8.5l.94-2.06 2.06-.94-2.06-.94L8.5 2.5l-.94 2.06-2.06.94zm10 10l.94 2.06.94-2.06 2.06-.94-2.06-.94-.94-2.06-.94 2.06-2.06.94z\"/><path d=\"M17.41 7.96l-1.37-1.37c-.4-.4-.92-.59-1.43-.59-.52 0-1.04.2-1.43.59L10.3 9.45l-7.72 7.72c-.78.78-.78 2.05 0 2.83L4 21.41c.39.39.9.59 1.41.59.51 0 1.02-.2 1.41-.59l7.78-7.78 2.81-2.81c.8-.78.8-2.07 0-2.86zM5.41 20L4 18.59l7.72-7.72 1.47 1.35L5.41 20z\"/>\n",
              "  </svg>\n",
              "      </button>\n",
              "      \n",
              "  <style>\n",
              "    .colab-df-container {\n",
              "      display:flex;\n",
              "      flex-wrap:wrap;\n",
              "      gap: 12px;\n",
              "    }\n",
              "\n",
              "    .colab-df-convert {\n",
              "      background-color: #E8F0FE;\n",
              "      border: none;\n",
              "      border-radius: 50%;\n",
              "      cursor: pointer;\n",
              "      display: none;\n",
              "      fill: #1967D2;\n",
              "      height: 32px;\n",
              "      padding: 0 0 0 0;\n",
              "      width: 32px;\n",
              "    }\n",
              "\n",
              "    .colab-df-convert:hover {\n",
              "      background-color: #E2EBFA;\n",
              "      box-shadow: 0px 1px 2px rgba(60, 64, 67, 0.3), 0px 1px 3px 1px rgba(60, 64, 67, 0.15);\n",
              "      fill: #174EA6;\n",
              "    }\n",
              "\n",
              "    [theme=dark] .colab-df-convert {\n",
              "      background-color: #3B4455;\n",
              "      fill: #D2E3FC;\n",
              "    }\n",
              "\n",
              "    [theme=dark] .colab-df-convert:hover {\n",
              "      background-color: #434B5C;\n",
              "      box-shadow: 0px 1px 3px 1px rgba(0, 0, 0, 0.15);\n",
              "      filter: drop-shadow(0px 1px 2px rgba(0, 0, 0, 0.3));\n",
              "      fill: #FFFFFF;\n",
              "    }\n",
              "  </style>\n",
              "\n",
              "      <script>\n",
              "        const buttonEl =\n",
              "          document.querySelector('#df-f9eec7e9-8efd-4765-afdf-d8b75bfbd8e7 button.colab-df-convert');\n",
              "        buttonEl.style.display =\n",
              "          google.colab.kernel.accessAllowed ? 'block' : 'none';\n",
              "\n",
              "        async function convertToInteractive(key) {\n",
              "          const element = document.querySelector('#df-f9eec7e9-8efd-4765-afdf-d8b75bfbd8e7');\n",
              "          const dataTable =\n",
              "            await google.colab.kernel.invokeFunction('convertToInteractive',\n",
              "                                                     [key], {});\n",
              "          if (!dataTable) return;\n",
              "\n",
              "          const docLinkHtml = 'Like what you see? Visit the ' +\n",
              "            '<a target=\"_blank\" href=https://colab.research.google.com/notebooks/data_table.ipynb>data table notebook</a>'\n",
              "            + ' to learn more about interactive tables.';\n",
              "          element.innerHTML = '';\n",
              "          dataTable['output_type'] = 'display_data';\n",
              "          await google.colab.output.renderOutput(dataTable, element);\n",
              "          const docLink = document.createElement('div');\n",
              "          docLink.innerHTML = docLinkHtml;\n",
              "          element.appendChild(docLink);\n",
              "        }\n",
              "      </script>\n",
              "    </div>\n",
              "  </div>\n",
              "  "
            ]
          },
          "metadata": {},
          "execution_count": 41
        }
      ]
    },
    {
      "cell_type": "code",
      "source": [
        "# split data into X and y\n",
        "X = df.drop(['AveragePrice'],axis=1)\n",
        "y = df['AveragePrice']\n",
        "\n",
        "# split data into traing and testing dataset\n",
        "X_train, X_test, y_train, y_test = train_test_split(X,\n",
        "                                                    y,\n",
        "                                                    test_size=0.3,\n",
        "                                                    random_state=15)"
      ],
      "metadata": {
        "id": "6dSYmdJMi6kz"
      },
      "execution_count": null,
      "outputs": []
    },
    {
      "cell_type": "code",
      "source": [
        "print(\"training set:\",X_train.shape,' - ',y_train.shape[0],' samples')\n",
        "print(\"testing set:\",X_test.shape,' - ',y_test.shape[0],' samples')"
      ],
      "metadata": {
        "colab": {
          "base_uri": "https://localhost:8080/"
        },
        "id": "A8IFUKLui6hp",
        "outputId": "71bbc72d-1d6e-4100-e48d-535c5537b88d"
      },
      "execution_count": null,
      "outputs": [
        {
          "output_type": "stream",
          "name": "stdout",
          "text": [
            "training set: (12774, 8)  -  12774  samples\n",
            "testing set: (5475, 8)  -  5475  samples\n"
          ]
        }
      ]
    },
    {
      "cell_type": "code",
      "source": [
        "\n",
        "# bulid and fit the model\n",
        "model = LinearRegression(normalize=True)\n",
        "model.fit(X_train,y_train)"
      ],
      "metadata": {
        "colab": {
          "base_uri": "https://localhost:8080/"
        },
        "id": "ung-JT-Bi6eo",
        "outputId": "0865e5b3-09f3-47f3-bcb6-ae622b1e2736"
      },
      "execution_count": null,
      "outputs": [
        {
          "output_type": "stream",
          "name": "stderr",
          "text": [
            "/usr/local/lib/python3.7/dist-packages/sklearn/linear_model/_base.py:145: FutureWarning: 'normalize' was deprecated in version 1.0 and will be removed in 1.2.\n",
            "If you wish to scale the data, use Pipeline with a StandardScaler in a preprocessing stage. To reproduce the previous behavior:\n",
            "\n",
            "from sklearn.pipeline import make_pipeline\n",
            "\n",
            "model = make_pipeline(StandardScaler(with_mean=False), LinearRegression())\n",
            "\n",
            "If you wish to pass a sample_weight parameter, you need to pass it as a fit parameter to each step of the pipeline as follows:\n",
            "\n",
            "kwargs = {s[0] + '__sample_weight': sample_weight for s in model.steps}\n",
            "model.fit(X, y, **kwargs)\n",
            "\n",
            "\n",
            "  FutureWarning,\n"
          ]
        },
        {
          "output_type": "execute_result",
          "data": {
            "text/plain": [
              "LinearRegression(normalize=True)"
            ]
          },
          "metadata": {},
          "execution_count": 44
        }
      ]
    },
    {
      "cell_type": "code",
      "source": [
        "# prediction and calculate the accuracy for the testing dataset\n",
        "test_pre = model.predict(X_test)\n",
        "test_score = r2_score(y_test,test_pre)\n",
        "print(\"The accuracy of testing dataset \",test_score*100)"
      ],
      "metadata": {
        "colab": {
          "base_uri": "https://localhost:8080/"
        },
        "id": "tK9Gs0Oji6Yw",
        "outputId": "9770e21e-cd1e-4265-c03e-2768353a4797"
      },
      "execution_count": null,
      "outputs": [
        {
          "output_type": "stream",
          "name": "stdout",
          "text": [
            "The accuracy of testing dataset  38.58074176453277\n"
          ]
        }
      ]
    },
    {
      "cell_type": "code",
      "source": [
        "# prediction and calculate the accuracy for the testing dataset\n",
        "train_pre = model.predict(X_train)\n",
        "train_score = r2_score(y_train,train_pre)\n",
        "print(\"The accuracy of training dataset \",train_score*100)"
      ],
      "metadata": {
        "colab": {
          "base_uri": "https://localhost:8080/"
        },
        "id": "uWv7-I6mpAvg",
        "outputId": "08718d56-59ec-44fa-b08f-86bd0f05c81b"
      },
      "execution_count": null,
      "outputs": [
        {
          "output_type": "stream",
          "name": "stdout",
          "text": [
            "The accuracy of training dataset  39.706860424097954\n"
          ]
        }
      ]
    },
    {
      "cell_type": "markdown",
      "source": [
        "The model doesn't work well with this dataset, In order to the avocado prices were near together\n"
      ],
      "metadata": {
        "id": "7nYinEWIpF7A"
      }
    }
  ]
}